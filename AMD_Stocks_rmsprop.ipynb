{
 "cells": [
  {
   "cell_type": "code",
   "execution_count": 1,
   "metadata": {},
   "outputs": [],
   "source": [
    "# importing the libraries\n",
    "import numpy as np\n",
    "import matplotlib.pyplot as plt\n",
    "import pandas as pd"
   ]
  },
  {
   "cell_type": "markdown",
   "metadata": {},
   "source": [
    "AMD Stock, 2000-01-01 : 2010-01-01\n",
    "10 years used as training data"
   ]
  },
  {
   "cell_type": "code",
   "execution_count": 2,
   "metadata": {},
   "outputs": [],
   "source": [
    "#importing the dataset\n",
    "# load the file contents\n",
    "dataset_train = pd.read_csv('AMD_Training_Data.csv')\n",
    "# Create a subtable of relevant entries (open values)\n",
    "# The .values makes this vector a numpy array\n",
    "training_set = dataset_train.iloc[:, 1:2].values"
   ]
  },
  {
   "cell_type": "code",
   "execution_count": 3,
   "metadata": {},
   "outputs": [],
   "source": [
    "# Feature Scaling\n",
    "# import the MinMaxScaler\n",
    "from sklearn.preprocessing import MinMaxScaler\n",
    "# create a scaler instance to rescale all data to the range of 0.0 to 1.0 \n",
    "sc = MinMaxScaler(feature_range = (0, 1))\n",
    "# create the actual training set of scaled values\n",
    "training_set_scaled = sc.fit_transform(training_set)"
   ]
  },
  {
   "cell_type": "code",
   "execution_count": 4,
   "metadata": {},
   "outputs": [],
   "source": [
    "days = 90"
   ]
  },
  {
   "cell_type": "code",
   "execution_count": 5,
   "metadata": {},
   "outputs": [],
   "source": [
    "#last 10 years\n",
    "X_train = [] \n",
    "# the stock price today\n",
    "y_train = [] \n",
    "\n",
    "for i in range(days, len(training_set)): \n",
    "    X_train.append(training_set_scaled[i-days:i, 0]) \n",
    "    y_train.append(training_set_scaled[i, 0])\n",
    "X_train, y_train = np.array(X_train), np.array(y_train)"
   ]
  },
  {
   "cell_type": "code",
   "execution_count": 6,
   "metadata": {},
   "outputs": [],
   "source": [
    "# Reshaping the data matrix\n",
    "X_train = np.reshape(X_train, (X_train.shape[0], X_train.shape[1], 1))"
   ]
  },
  {
   "cell_type": "code",
   "execution_count": 7,
   "metadata": {},
   "outputs": [
    {
     "name": "stderr",
     "output_type": "stream",
     "text": [
      "Using TensorFlow backend.\n"
     ]
    }
   ],
   "source": [
    "# Importing the Keras libraries and packages\n",
    "from keras.models import Sequential\n",
    "from keras.layers import Dense\n",
    "from keras.layers import LSTM\n",
    "from keras.layers import Dropout"
   ]
  },
  {
   "cell_type": "code",
   "execution_count": 8,
   "metadata": {},
   "outputs": [],
   "source": [
    "neurons = 100"
   ]
  },
  {
   "cell_type": "markdown",
   "metadata": {},
   "source": [
    "Using rmsprop Optimizer"
   ]
  },
  {
   "cell_type": "code",
   "execution_count": 9,
   "metadata": {},
   "outputs": [],
   "source": [
    "# Initialising the RNN as a sequence of layers\n",
    "regressor = Sequential()"
   ]
  },
  {
   "cell_type": "code",
   "execution_count": 10,
   "metadata": {},
   "outputs": [],
   "source": [
    "# Adding the input layer and the LSTM layer\n",
    "regressor.add(LSTM(units = neurons, return_sequences = True, input_shape =  (X_train.shape[1], 1)))\n",
    "# the argument is the dropout rate to ignore in the layers (20%),\n",
    "# units * 20% = 10 units will be dropped each time\n",
    "regressor.add(Dropout(0.2))"
   ]
  },
  {
   "cell_type": "code",
   "execution_count": 11,
   "metadata": {},
   "outputs": [],
   "source": [
    "# Adding a second LSTM layer and some Dropout regularisation\n",
    "regressor.add(LSTM(units = neurons, return_sequences = True))\n",
    "regressor.add(Dropout(0.2))\n",
    "# Adding a third LSTM layer and some Dropout regularisation\n",
    "regressor.add(LSTM(units = neurons, return_sequences = True))\n",
    "regressor.add(Dropout(0.2))\n",
    "# Adding a fourth LSTM layer and some Dropout regularisation\n",
    "# we removed the return_sequences because we no longer return a sequence but a value instead\n",
    "regressor.add(LSTM(units = neurons))\n",
    "regressor.add(Dropout(0.2))"
   ]
  },
  {
   "cell_type": "code",
   "execution_count": 12,
   "metadata": {},
   "outputs": [],
   "source": [
    "# Adding the output layer\n",
    "regressor.add(Dense(units = 1))\n",
    "# Compiling the RNN\n",
    "regressor.compile(optimizer = 'rmsprop', loss = 'mean_squared_error')"
   ]
  },
  {
   "cell_type": "code",
   "execution_count": 13,
   "metadata": {},
   "outputs": [
    {
     "name": "stdout",
     "output_type": "stream",
     "text": [
      "Epoch 1/70\n",
      "2426/2426 [==============================] - 21s 9ms/step - loss: 0.1552\n",
      "Epoch 2/70\n",
      "2426/2426 [==============================] - 19s 8ms/step - loss: 0.0050\n",
      "Epoch 3/70\n",
      "2426/2426 [==============================] - 19s 8ms/step - loss: 0.0102\n",
      "Epoch 4/70\n",
      "2426/2426 [==============================] - 18s 7ms/step - loss: 0.0109\n",
      "Epoch 5/70\n",
      "2426/2426 [==============================] - 18s 7ms/step - loss: 0.0091\n",
      "Epoch 6/70\n",
      "2426/2426 [==============================] - 18s 7ms/step - loss: 0.0067\n",
      "Epoch 7/70\n",
      "2426/2426 [==============================] - 18s 7ms/step - loss: 0.0065\n",
      "Epoch 8/70\n",
      "2426/2426 [==============================] - 18s 7ms/step - loss: 0.0056\n",
      "Epoch 9/70\n",
      "2426/2426 [==============================] - 18s 7ms/step - loss: 0.0049\n",
      "Epoch 10/70\n",
      "2426/2426 [==============================] - 18s 7ms/step - loss: 0.0045\n",
      "Epoch 11/70\n",
      "2426/2426 [==============================] - 18s 7ms/step - loss: 0.0047\n",
      "Epoch 12/70\n",
      "2426/2426 [==============================] - 18s 7ms/step - loss: 0.0035\n",
      "Epoch 13/70\n",
      "2426/2426 [==============================] - 18s 7ms/step - loss: 0.0035\n",
      "Epoch 14/70\n",
      "2426/2426 [==============================] - 18s 7ms/step - loss: 0.0029\n",
      "Epoch 15/70\n",
      "2426/2426 [==============================] - 18s 7ms/step - loss: 0.0029\n",
      "Epoch 16/70\n",
      "2426/2426 [==============================] - 18s 7ms/step - loss: 0.0032\n",
      "Epoch 17/70\n",
      "2426/2426 [==============================] - 18s 7ms/step - loss: 0.0024\n",
      "Epoch 18/70\n",
      "2426/2426 [==============================] - 18s 7ms/step - loss: 0.0030\n",
      "Epoch 19/70\n",
      "2426/2426 [==============================] - 18s 7ms/step - loss: 0.0026\n",
      "Epoch 20/70\n",
      "2426/2426 [==============================] - 18s 7ms/step - loss: 0.0025\n",
      "Epoch 21/70\n",
      "2426/2426 [==============================] - 19s 8ms/step - loss: 0.0024\n",
      "Epoch 22/70\n",
      "2426/2426 [==============================] - 18s 7ms/step - loss: 0.0023\n",
      "Epoch 23/70\n",
      "2426/2426 [==============================] - 18s 7ms/step - loss: 0.0021\n",
      "Epoch 24/70\n",
      "2426/2426 [==============================] - 18s 7ms/step - loss: 0.0024\n",
      "Epoch 25/70\n",
      "2426/2426 [==============================] - 18s 7ms/step - loss: 0.0023\n",
      "Epoch 26/70\n",
      "2426/2426 [==============================] - 18s 7ms/step - loss: 0.0019\n",
      "Epoch 27/70\n",
      "2426/2426 [==============================] - 18s 7ms/step - loss: 0.0022\n",
      "Epoch 28/70\n",
      "2426/2426 [==============================] - 18s 7ms/step - loss: 0.0018\n",
      "Epoch 29/70\n",
      "2426/2426 [==============================] - 18s 7ms/step - loss: 0.0018\n",
      "Epoch 30/70\n",
      "2426/2426 [==============================] - 18s 7ms/step - loss: 0.0020\n",
      "Epoch 31/70\n",
      "2426/2426 [==============================] - 18s 7ms/step - loss: 0.0018\n",
      "Epoch 32/70\n",
      "2426/2426 [==============================] - 18s 7ms/step - loss: 0.0016\n",
      "Epoch 33/70\n",
      "2426/2426 [==============================] - 18s 7ms/step - loss: 0.0017\n",
      "Epoch 34/70\n",
      "2426/2426 [==============================] - 18s 7ms/step - loss: 0.0017\n",
      "Epoch 35/70\n",
      "2426/2426 [==============================] - 18s 7ms/step - loss: 0.0016\n",
      "Epoch 36/70\n",
      "2426/2426 [==============================] - 18s 7ms/step - loss: 0.0015\n",
      "Epoch 37/70\n",
      "2426/2426 [==============================] - 18s 7ms/step - loss: 0.0017\n",
      "Epoch 38/70\n",
      "2426/2426 [==============================] - 18s 7ms/step - loss: 0.0014\n",
      "Epoch 39/70\n",
      "2426/2426 [==============================] - 18s 7ms/step - loss: 0.0016\n",
      "Epoch 40/70\n",
      "2426/2426 [==============================] - 18s 7ms/step - loss: 0.0018\n",
      "Epoch 41/70\n",
      "2426/2426 [==============================] - 18s 7ms/step - loss: 0.0015\n",
      "Epoch 42/70\n",
      "2426/2426 [==============================] - 18s 7ms/step - loss: 0.0015\n",
      "Epoch 43/70\n",
      "2426/2426 [==============================] - 18s 7ms/step - loss: 0.0014\n",
      "Epoch 44/70\n",
      "2426/2426 [==============================] - 18s 7ms/step - loss: 0.0013\n",
      "Epoch 45/70\n",
      "2426/2426 [==============================] - 18s 7ms/step - loss: 0.0014\n",
      "Epoch 46/70\n",
      "2426/2426 [==============================] - 18s 7ms/step - loss: 0.0014\n",
      "Epoch 47/70\n",
      "2426/2426 [==============================] - 18s 7ms/step - loss: 0.0013\n",
      "Epoch 48/70\n",
      "2426/2426 [==============================] - 19s 8ms/step - loss: 0.0016\n",
      "Epoch 49/70\n",
      "2426/2426 [==============================] - 19s 8ms/step - loss: 0.0013\n",
      "Epoch 50/70\n",
      "2426/2426 [==============================] - 18s 7ms/step - loss: 0.0014\n",
      "Epoch 51/70\n",
      "2426/2426 [==============================] - 18s 7ms/step - loss: 0.0014\n",
      "Epoch 52/70\n",
      "2426/2426 [==============================] - 18s 7ms/step - loss: 0.0014\n",
      "Epoch 53/70\n",
      "2426/2426 [==============================] - 18s 7ms/step - loss: 0.0015\n",
      "Epoch 54/70\n",
      "2426/2426 [==============================] - 18s 7ms/step - loss: 0.0013\n",
      "Epoch 55/70\n",
      "2426/2426 [==============================] - 19s 8ms/step - loss: 0.0013\n",
      "Epoch 56/70\n",
      "2426/2426 [==============================] - 19s 8ms/step - loss: 0.0011\n",
      "Epoch 57/70\n",
      "2426/2426 [==============================] - 18s 8ms/step - loss: 0.0013\n",
      "Epoch 58/70\n",
      "2426/2426 [==============================] - 18s 7ms/step - loss: 0.0012\n",
      "Epoch 59/70\n",
      "2426/2426 [==============================] - 18s 7ms/step - loss: 0.0012\n",
      "Epoch 60/70\n",
      "2426/2426 [==============================] - 18s 7ms/step - loss: 0.0014\n",
      "Epoch 61/70\n",
      "2426/2426 [==============================] - 18s 7ms/step - loss: 0.0012\n",
      "Epoch 62/70\n",
      "2426/2426 [==============================] - 18s 7ms/step - loss: 0.0013\n",
      "Epoch 63/70\n",
      "2426/2426 [==============================] - 18s 7ms/step - loss: 0.0013\n",
      "Epoch 64/70\n",
      "2426/2426 [==============================] - 18s 7ms/step - loss: 0.0013\n",
      "Epoch 65/70\n",
      "2426/2426 [==============================] - 18s 7ms/step - loss: 0.0013\n",
      "Epoch 66/70\n",
      "2426/2426 [==============================] - 18s 7ms/step - loss: 0.0011\n",
      "Epoch 67/70\n",
      "2426/2426 [==============================] - 18s 7ms/step - loss: 0.0012\n",
      "Epoch 68/70\n",
      "2426/2426 [==============================] - 18s 7ms/step - loss: 0.0012\n",
      "Epoch 69/70\n",
      "2426/2426 [==============================] - 18s 7ms/step - loss: 0.0011\n",
      "Epoch 70/70\n",
      "2426/2426 [==============================] - 18s 7ms/step - loss: 0.0013\n"
     ]
    },
    {
     "data": {
      "text/plain": [
       "<keras.callbacks.History at 0x7fa5f5999250>"
      ]
     },
     "execution_count": 13,
     "metadata": {},
     "output_type": "execute_result"
    }
   ],
   "source": [
    "# Fitting the RNN to the Training set\n",
    "regressor.fit(X_train, y_train, epochs = 70, batch_size = 96)"
   ]
  },
  {
   "cell_type": "markdown",
   "metadata": {},
   "source": [
    "Getting the real AMD stock prices for 2017-10-07 : 2018-01-07\n",
    "1 year used as testing data"
   ]
  },
  {
   "cell_type": "code",
   "execution_count": 14,
   "metadata": {},
   "outputs": [],
   "source": [
    "dataset_test = pd.read_csv('AMD_Testing_Data.csv')\n",
    "real_stock_price = dataset_test.iloc[:, 1:2].values"
   ]
  },
  {
   "cell_type": "markdown",
   "metadata": {},
   "source": [
    "Predicting AMD stock prices for 2017-10-07 : 2018-01-07\n",
    "Predicting 1 year of data"
   ]
  },
  {
   "cell_type": "code",
   "execution_count": 15,
   "metadata": {},
   "outputs": [],
   "source": [
    "dataset_total = pd.concat((dataset_train['Open'], dataset_test['Open']), axis = 0) \n",
    "inputs = dataset_total[len(dataset_total) - len(dataset_test) - days:].values\n",
    "inputs = inputs.reshape(-1,1) \n",
    "inputs = sc.transform(inputs)"
   ]
  },
  {
   "cell_type": "code",
   "execution_count": 16,
   "metadata": {},
   "outputs": [],
   "source": [
    "X_test = []\n",
    "for i in range(days, len(real_stock_price) + days): \n",
    "    X_test.append(inputs[i-days:i, 0])\n",
    "X_test = np.array(X_test)\n",
    "X_test = np.reshape(X_test, (X_test.shape[0], X_test.shape[1], 1))\n",
    "predicted_stock_price = regressor.predict(X_test)\n",
    "predicted_stock_price = sc.inverse_transform(predicted_stock_price) "
   ]
  },
  {
   "cell_type": "code",
   "execution_count": 21,
   "metadata": {},
   "outputs": [
    {
     "data": {
      "image/png": "[encoded data removed]",
      "text/plain": [
       "<Figure size 960x960 with 1 Axes>"
      ]
     },
     "metadata": {},
     "output_type": "display_data"
    }
   ],
   "source": [
    "# Visualising the results\n",
    "plt.figure(figsize=(12, 12), dpi= 80, facecolor='w', edgecolor='k')\n",
    "plt.plot(real_stock_price, color = 'red', label = 'Real AMD Stock Price')\n",
    "plt.plot(predicted_stock_price, color = 'blue', label = 'Predicted AMD Stock Price')\n",
    "plt.title('AMD Stock Price Prediction')\n",
    "plt.xlabel('Time')\n",
    "plt.ylabel('AMD Stock Price')\n",
    "plt.legend()\n",
    "plt.show()"
   ]
  },
  {
   "cell_type": "code",
   "execution_count": 18,
   "metadata": {},
   "outputs": [],
   "source": [
    "import math\n",
    "from sklearn.metrics import mean_squared_error"
   ]
  },
  {
   "cell_type": "code",
   "execution_count": 19,
   "metadata": {},
   "outputs": [
    {
     "data": {
      "text/plain": [
       "1.2088610793793924"
      ]
     },
     "execution_count": 19,
     "metadata": {},
     "output_type": "execute_result"
    }
   ],
   "source": [
    "rmse = math.sqrt(mean_squared_error(real_stock_price, predicted_stock_price))\n",
    "rmse"
   ]
  }
 ],
 "metadata": {
  "kernelspec": {
   "display_name": "Python 2",
   "language": "python",
   "name": "python2"
  },
  "language_info": {
   "codemirror_mode": {
    "name": "ipython",
    "version": 2
   },
   "file_extension": ".py",
   "mimetype": "text/x-python",
   "name": "python",
   "nbconvert_exporter": "python",
   "pygments_lexer": "ipython2",
   "version": "2.7.12"
  }
 },
 "nbformat": 4,
 "nbformat_minor": 2
}
